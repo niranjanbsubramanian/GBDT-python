{
  "nbformat": 4,
  "nbformat_minor": 0,
  "metadata": {
    "colab": {
      "name": "GBDT.ipynb",
      "provenance": [],
      "authorship_tag": "ABX9TyPLx/xQDs0EaWmjpvOx1QGT",
      "include_colab_link": true
    },
    "kernelspec": {
      "name": "python3",
      "display_name": "Python 3"
    }
  },
  "cells": [
    {
      "cell_type": "markdown",
      "metadata": {
        "id": "view-in-github",
        "colab_type": "text"
      },
      "source": [
        "<a href=\"https://colab.research.google.com/github/niranjanbsubramanian/GBDT-python/blob/master/GBDT.ipynb\" target=\"_parent\"><img src=\"https://colab.research.google.com/assets/colab-badge.svg\" alt=\"Open In Colab\"/></a>"
      ]
    },
    {
      "cell_type": "code",
      "metadata": {
        "id": "pWIDSOxChxw7",
        "colab_type": "code",
        "colab": {}
      },
      "source": [
        "import numpy as np\n",
        "from sklearn.datasets import load_boston\n",
        "from sklearn.tree import DecisionTreeRegressor\n",
        "from sklearn.model_selection import train_test_split\n",
        "\n",
        "X, y = load_boston(return_X_y=True)  # loading boston dataset\n",
        "X_train, X_test, y_train, y_test = train_test_split(X, y, test_size=0.3, random_state=2020)"
      ],
      "execution_count": 44,
      "outputs": []
    },
    {
      "cell_type": "code",
      "metadata": {
        "id": "rraAVJJLh0e5",
        "colab_type": "code",
        "colab": {
          "base_uri": "https://localhost:8080/",
          "height": 50
        },
        "outputId": "b9977bdd-a676-4e67-b966-951cc285b8ac"
      },
      "source": [
        "print(X_train.shape)\n",
        "print(X_test.shape)"
      ],
      "execution_count": 45,
      "outputs": [
        {
          "output_type": "stream",
          "text": [
            "(354, 13)\n",
            "(152, 13)\n"
          ],
          "name": "stdout"
        }
      ]
    },
    {
      "cell_type": "code",
      "metadata": {
        "id": "Hxytp6jah3rZ",
        "colab_type": "code",
        "colab": {}
      },
      "source": [
        "k = 50 # base learners \n",
        "lr = 0.1 # learning rate"
      ],
      "execution_count": 46,
      "outputs": []
    },
    {
      "cell_type": "code",
      "metadata": {
        "id": "XjOP7YC7h5X5",
        "colab_type": "code",
        "colab": {}
      },
      "source": [
        "# for our initial model prediction we'll assign all yi_hat as the mean of target variable.\n",
        "prev_pred = []\n",
        "for _ in range(len(y_train)):\n",
        "  prev_pred.append(np.mean(y_train))"
      ],
      "execution_count": 47,
      "outputs": []
    },
    {
      "cell_type": "code",
      "metadata": {
        "id": "gPoSUhDLh7yj",
        "colab_type": "code",
        "colab": {}
      },
      "source": [
        "# loop through all the base-learners and train on the previous model's error\n",
        "weak_learners=[]\n",
        "for i in range(k):\n",
        "  error = y_train - prev_pred\n",
        "  base = DecisionTreeRegressor(max_depth=2)\n",
        "  base.fit(X_train, error)\n",
        "  pred = base.predict(X_train)\n",
        "  prev_pred = prev_pred + lr * pred\n",
        "  weak_learners.append(base)"
      ],
      "execution_count": 48,
      "outputs": []
    },
    {
      "cell_type": "code",
      "metadata": {
        "id": "Tlki6aseh8Wo",
        "colab_type": "code",
        "colab": {}
      },
      "source": [
        "# while prediction again the initial model predictions will be assigned to the mean of our training target variables\n",
        "prev_pred = []\n",
        "for _ in range(len(y_test)):\n",
        "  prev_pred.append(np.mean(y_train))"
      ],
      "execution_count": 49,
      "outputs": []
    },
    {
      "cell_type": "code",
      "metadata": {
        "id": "fpzwpwgTh-Aw",
        "colab_type": "code",
        "colab": {}
      },
      "source": [
        "#loop through all the base learners and predict\n",
        "for b in weak_learners:\n",
        "  pred = b.predict(X_test)\n",
        "  prev_pred = prev_pred + lr * pred"
      ],
      "execution_count": 50,
      "outputs": []
    },
    {
      "cell_type": "code",
      "metadata": {
        "id": "5RY9GIhJiFcI",
        "colab_type": "code",
        "colab": {
          "base_uri": "https://localhost:8080/",
          "height": 50
        },
        "outputId": "a81c36b4-abf6-4a43-db75-ee2b4c4b49ad"
      },
      "source": [
        "# print the metrics\n",
        "from sklearn import metrics\n",
        "r2 = metrics.r2_score(y_test, prev_pred)\n",
        "mse = metrics.mean_squared_error(y_test, prev_pred)\n",
        "print('r2:',r2)\n",
        "print('mse:',mse)"
      ],
      "execution_count": 51,
      "outputs": [
        {
          "output_type": "stream",
          "text": [
            "r2: 0.7226453939750501\n",
            "mse: 21.623990153454447\n"
          ],
          "name": "stdout"
        }
      ]
    },
    {
      "cell_type": "markdown",
      "metadata": {
        "id": "OVN-tolPiJx5",
        "colab_type": "text"
      },
      "source": [
        "**Using sk-learn**"
      ]
    },
    {
      "cell_type": "code",
      "metadata": {
        "id": "w3aRLZOMiM0v",
        "colab_type": "code",
        "colab": {}
      },
      "source": [
        "from sklearn.datasets import load_boston\n",
        "from sklearn.ensemble import GradientBoostingRegressor\n",
        "from sklearn import metrics\n",
        "import numpy as np\n",
        "diabetes = load_boston()\n",
        "\n",
        "X, y = load_boston(return_X_y=True)\n",
        "X_train, X_test, y_train, y_test = train_test_split(X, y, test_size=0.3, random_state=2020)"
      ],
      "execution_count": 52,
      "outputs": []
    },
    {
      "cell_type": "code",
      "metadata": {
        "id": "bkdTqfzYiOJu",
        "colab_type": "code",
        "colab": {
          "base_uri": "https://localhost:8080/",
          "height": 50
        },
        "outputId": "1e93e3f3-7d09-4a23-9976-0c6d25f2a2f8"
      },
      "source": [
        "model = GradientBoostingRegressor(n_estimators=50, learning_rate=0.1)\n",
        "model.fit(X_train, y_train)\n",
        "pred = model.predict(X_test)\n",
        "\n",
        "r2 = metrics.r2_score(y_test, pred)\n",
        "mse = metrics.mean_squared_error(y_test, pred)\n",
        "print('r2:',r2)\n",
        "print('mse:',mse)"
      ],
      "execution_count": 53,
      "outputs": [
        {
          "output_type": "stream",
          "text": [
            "r2: 0.7687671889552606\n",
            "mse: 18.028098039724778\n"
          ],
          "name": "stdout"
        }
      ]
    }
  ]
}